{
  "cells": [
    {
      "cell_type": "markdown",
      "metadata": {
        "id": "zgJejcP4oxvW"
      },
      "source": [
        "# **EXPLORATORY DATA ANALYSIS WITH SQL AND PYTHON OF IMDB MOVIES**"
      ]
    },
    {
      "cell_type": "markdown",
      "metadata": {
        "id": "a40ilCEdombf"
      },
      "source": [
        "### PREPARE ENVIRNOMENT"
      ]
    },
    {
      "cell_type": "code",
      "execution_count": null,
      "metadata": {
        "colab": {
          "base_uri": "https://localhost:8080/"
        },
        "id": "uPX5FCs74r2x",
        "outputId": "6fd44ac9-9262-43dd-ae17-8b1c198228bb"
      },
      "outputs": [
        {
          "name": "stdout",
          "output_type": "stream",
          "text": [
            "Looking in indexes: https://pypi.org/simple, https://us-python.pkg.dev/colab-wheels/public/simple/\n",
            "Requirement already satisfied: ipython-sql in /usr/local/lib/python3.7/dist-packages (0.3.9)\n",
            "Requirement already satisfied: ipython-genutils>=0.1.0 in /usr/local/lib/python3.7/dist-packages (from ipython-sql) (0.2.0)\n",
            "Requirement already satisfied: six in /usr/local/lib/python3.7/dist-packages (from ipython-sql) (1.15.0)\n",
            "Requirement already satisfied: sqlparse in /usr/local/lib/python3.7/dist-packages (from ipython-sql) (0.4.2)\n",
            "Requirement already satisfied: ipython>=1.0 in /usr/local/lib/python3.7/dist-packages (from ipython-sql) (7.9.0)\n",
            "Requirement already satisfied: sqlalchemy>=0.6.7 in /usr/local/lib/python3.7/dist-packages (from ipython-sql) (1.4.40)\n",
            "Requirement already satisfied: prettytable in /usr/local/lib/python3.7/dist-packages (from ipython-sql) (3.4.0)\n",
            "Requirement already satisfied: prompt-toolkit<2.1.0,>=2.0.0 in /usr/local/lib/python3.7/dist-packages (from ipython>=1.0->ipython-sql) (2.0.10)\n",
            "Requirement already satisfied: pickleshare in /usr/local/lib/python3.7/dist-packages (from ipython>=1.0->ipython-sql) (0.7.5)\n",
            "Requirement already satisfied: backcall in /usr/local/lib/python3.7/dist-packages (from ipython>=1.0->ipython-sql) (0.2.0)\n",
            "Requirement already satisfied: setuptools>=18.5 in /usr/local/lib/python3.7/dist-packages (from ipython>=1.0->ipython-sql) (57.4.0)\n",
            "Requirement already satisfied: decorator in /usr/local/lib/python3.7/dist-packages (from ipython>=1.0->ipython-sql) (4.4.2)\n",
            "Collecting jedi>=0.10\n",
            "  Downloading jedi-0.18.1-py2.py3-none-any.whl (1.6 MB)\n",
            "\u001b[K     |████████████████████████████████| 1.6 MB 5.2 MB/s \n",
            "\u001b[?25hRequirement already satisfied: pexpect in /usr/local/lib/python3.7/dist-packages (from ipython>=1.0->ipython-sql) (4.8.0)\n",
            "Requirement already satisfied: traitlets>=4.2 in /usr/local/lib/python3.7/dist-packages (from ipython>=1.0->ipython-sql) (5.1.1)\n",
            "Requirement already satisfied: pygments in /usr/local/lib/python3.7/dist-packages (from ipython>=1.0->ipython-sql) (2.6.1)\n",
            "Requirement already satisfied: parso<0.9.0,>=0.8.0 in /usr/local/lib/python3.7/dist-packages (from jedi>=0.10->ipython>=1.0->ipython-sql) (0.8.3)\n",
            "Requirement already satisfied: wcwidth in /usr/local/lib/python3.7/dist-packages (from prompt-toolkit<2.1.0,>=2.0.0->ipython>=1.0->ipython-sql) (0.2.5)\n",
            "Requirement already satisfied: greenlet!=0.4.17 in /usr/local/lib/python3.7/dist-packages (from sqlalchemy>=0.6.7->ipython-sql) (1.1.3)\n",
            "Requirement already satisfied: importlib-metadata in /usr/local/lib/python3.7/dist-packages (from sqlalchemy>=0.6.7->ipython-sql) (4.12.0)\n",
            "Requirement already satisfied: zipp>=0.5 in /usr/local/lib/python3.7/dist-packages (from importlib-metadata->sqlalchemy>=0.6.7->ipython-sql) (3.8.1)\n",
            "Requirement already satisfied: typing-extensions>=3.6.4 in /usr/local/lib/python3.7/dist-packages (from importlib-metadata->sqlalchemy>=0.6.7->ipython-sql) (4.1.1)\n",
            "Requirement already satisfied: ptyprocess>=0.5 in /usr/local/lib/python3.7/dist-packages (from pexpect->ipython>=1.0->ipython-sql) (0.7.0)\n",
            "Installing collected packages: jedi\n",
            "Successfully installed jedi-0.18.1\n"
          ]
        }
      ],
      "source": [
        "%pip install ipython-sql"
      ]
    },
    {
      "cell_type": "code",
      "execution_count": 1,
      "metadata": {
        "colab": {
          "base_uri": "https://localhost:8080/"
        },
        "id": "86M4O4y75Iwk",
        "outputId": "aa641841-0efb-4c2f-d500-224b4c661b01"
      },
      "outputs": [
        {
          "output_type": "stream",
          "name": "stdout",
          "text": [
            "Mounted at /content/drive\n"
          ]
        }
      ],
      "source": [
        "from google.colab import drive\n",
        "drive.mount('/content/drive')"
      ]
    },
    {
      "cell_type": "markdown",
      "metadata": {
        "id": "a6OB4OA6o4DP"
      },
      "source": [
        "### INITIATE IPYTHON_SQL AND CONNECT TO SQLITE DATABASE"
      ]
    },
    {
      "cell_type": "code",
      "execution_count": 2,
      "metadata": {
        "colab": {
          "base_uri": "https://localhost:8080/",
          "height": 35
        },
        "id": "R_U76zae5Ci2",
        "outputId": "a403d1ed-c053-4939-8d02-6cee38b559d4"
      },
      "outputs": [
        {
          "output_type": "execute_result",
          "data": {
            "text/plain": [
              "'Connected: @/content/drive/MyDrive/Colab_Notebooks/sql_imdb/imdb.db'"
            ],
            "application/vnd.google.colaboratory.intrinsic+json": {
              "type": "string"
            }
          },
          "metadata": {},
          "execution_count": 2
        }
      ],
      "source": [
        "%load_ext sql\n",
        "\n",
        "%sql sqlite:////content/drive/MyDrive/Colab_Notebooks/sql_imdb/imdb.db "
      ]
    },
    {
      "cell_type": "code",
      "execution_count": null,
      "metadata": {
        "colab": {
          "base_uri": "https://localhost:8080/",
          "height": 182
        },
        "id": "7hg3HW678ejz",
        "outputId": "7de49472-7f18-4175-aaa7-fc62411b8685"
      },
      "outputs": [
        {
          "output_type": "stream",
          "name": "stdout",
          "text": [
            " * sqlite:////content/drive/MyDrive/Colab_Notebooks/sql_imdb/imdb.db\n",
            "Done.\n"
          ]
        },
        {
          "output_type": "execute_result",
          "data": {
            "text/plain": [
              "[('tt0000001', 'short', 'Carmencita', 'Carmencita', '0', '1894', '\\\\N', '1', 'Documentary,Short'),\n",
              " ('tt0000002', 'short', 'Le clown et ses chiens', 'Le clown et ses chiens', '0', '1892', '\\\\N', '5', 'Animation,Short'),\n",
              " ('tt0000003', 'short', 'Pauvre Pierrot', 'Pauvre Pierrot', '0', '1892', '\\\\N', '4', 'Animation,Comedy,Romance'),\n",
              " ('tt0000004', 'short', 'Un bon bock', 'Un bon bock', '0', '1892', '\\\\N', '12', 'Animation,Short'),\n",
              " ('tt0000005', 'short', 'Blacksmith Scene', 'Blacksmith Scene', '0', '1893', '\\\\N', '1', 'Comedy,Short')]"
            ],
            "text/html": [
              "<table>\n",
              "    <thead>\n",
              "        <tr>\n",
              "            <th>tconst</th>\n",
              "            <th>titleType</th>\n",
              "            <th>primaryTitle</th>\n",
              "            <th>originalTitle</th>\n",
              "            <th>isAdult</th>\n",
              "            <th>startYear</th>\n",
              "            <th>endYear</th>\n",
              "            <th>runtimeMinutes</th>\n",
              "            <th>genres</th>\n",
              "        </tr>\n",
              "    </thead>\n",
              "    <tbody>\n",
              "        <tr>\n",
              "            <td>tt0000001</td>\n",
              "            <td>short</td>\n",
              "            <td>Carmencita</td>\n",
              "            <td>Carmencita</td>\n",
              "            <td>0</td>\n",
              "            <td>1894</td>\n",
              "            <td>\\N</td>\n",
              "            <td>1</td>\n",
              "            <td>Documentary,Short</td>\n",
              "        </tr>\n",
              "        <tr>\n",
              "            <td>tt0000002</td>\n",
              "            <td>short</td>\n",
              "            <td>Le clown et ses chiens</td>\n",
              "            <td>Le clown et ses chiens</td>\n",
              "            <td>0</td>\n",
              "            <td>1892</td>\n",
              "            <td>\\N</td>\n",
              "            <td>5</td>\n",
              "            <td>Animation,Short</td>\n",
              "        </tr>\n",
              "        <tr>\n",
              "            <td>tt0000003</td>\n",
              "            <td>short</td>\n",
              "            <td>Pauvre Pierrot</td>\n",
              "            <td>Pauvre Pierrot</td>\n",
              "            <td>0</td>\n",
              "            <td>1892</td>\n",
              "            <td>\\N</td>\n",
              "            <td>4</td>\n",
              "            <td>Animation,Comedy,Romance</td>\n",
              "        </tr>\n",
              "        <tr>\n",
              "            <td>tt0000004</td>\n",
              "            <td>short</td>\n",
              "            <td>Un bon bock</td>\n",
              "            <td>Un bon bock</td>\n",
              "            <td>0</td>\n",
              "            <td>1892</td>\n",
              "            <td>\\N</td>\n",
              "            <td>12</td>\n",
              "            <td>Animation,Short</td>\n",
              "        </tr>\n",
              "        <tr>\n",
              "            <td>tt0000005</td>\n",
              "            <td>short</td>\n",
              "            <td>Blacksmith Scene</td>\n",
              "            <td>Blacksmith Scene</td>\n",
              "            <td>0</td>\n",
              "            <td>1893</td>\n",
              "            <td>\\N</td>\n",
              "            <td>1</td>\n",
              "            <td>Comedy,Short</td>\n",
              "        </tr>\n",
              "    </tbody>\n",
              "</table>"
            ]
          },
          "metadata": {},
          "execution_count": 3
        }
      ],
      "source": [
        "%%sql \n",
        "\n",
        "SELECT * FROM basics LIMIT 5;"
      ]
    },
    {
      "cell_type": "code",
      "source": [
        "%%sql \n",
        "\n",
        "SELECT * FROM akas LIMIT 5;"
      ],
      "metadata": {
        "colab": {
          "base_uri": "https://localhost:8080/",
          "height": 182
        },
        "id": "62scLRMOaBfr",
        "outputId": "28bff94c-6c1a-45f3-bec1-cc143c3e25a7"
      },
      "execution_count": null,
      "outputs": [
        {
          "output_type": "stream",
          "name": "stdout",
          "text": [
            " * sqlite:////content/drive/MyDrive/Colab_Notebooks/sql_imdb/imdb.db\n",
            "Done.\n"
          ]
        },
        {
          "output_type": "execute_result",
          "data": {
            "text/plain": [
              "[('tt0000001', '1', 'Карменсіта', 'UA', '\\\\N', 'imdbDisplay', '\\\\N', '0'),\n",
              " ('tt0000001', '2', 'Carmencita', 'DE', '\\\\N', '\\\\N', 'literal title', '0'),\n",
              " ('tt0000001', '3', 'Carmencita - spanyol tánc', 'HU', '\\\\N', 'imdbDisplay', '\\\\N', '0'),\n",
              " ('tt0000001', '4', 'Καρμενσίτα', 'GR', '\\\\N', 'imdbDisplay', '\\\\N', '0'),\n",
              " ('tt0000001', '5', 'Карменсита', 'RU', '\\\\N', 'imdbDisplay', '\\\\N', '0')]"
            ],
            "text/html": [
              "<table>\n",
              "    <thead>\n",
              "        <tr>\n",
              "            <th>titleId</th>\n",
              "            <th>ordering</th>\n",
              "            <th>title</th>\n",
              "            <th>region</th>\n",
              "            <th>language</th>\n",
              "            <th>types</th>\n",
              "            <th>attributes</th>\n",
              "            <th>isOriginalTitle</th>\n",
              "        </tr>\n",
              "    </thead>\n",
              "    <tbody>\n",
              "        <tr>\n",
              "            <td>tt0000001</td>\n",
              "            <td>1</td>\n",
              "            <td>Карменсіта</td>\n",
              "            <td>UA</td>\n",
              "            <td>\\N</td>\n",
              "            <td>imdbDisplay</td>\n",
              "            <td>\\N</td>\n",
              "            <td>0</td>\n",
              "        </tr>\n",
              "        <tr>\n",
              "            <td>tt0000001</td>\n",
              "            <td>2</td>\n",
              "            <td>Carmencita</td>\n",
              "            <td>DE</td>\n",
              "            <td>\\N</td>\n",
              "            <td>\\N</td>\n",
              "            <td>literal title</td>\n",
              "            <td>0</td>\n",
              "        </tr>\n",
              "        <tr>\n",
              "            <td>tt0000001</td>\n",
              "            <td>3</td>\n",
              "            <td>Carmencita - spanyol tánc</td>\n",
              "            <td>HU</td>\n",
              "            <td>\\N</td>\n",
              "            <td>imdbDisplay</td>\n",
              "            <td>\\N</td>\n",
              "            <td>0</td>\n",
              "        </tr>\n",
              "        <tr>\n",
              "            <td>tt0000001</td>\n",
              "            <td>4</td>\n",
              "            <td>Καρμενσίτα</td>\n",
              "            <td>GR</td>\n",
              "            <td>\\N</td>\n",
              "            <td>imdbDisplay</td>\n",
              "            <td>\\N</td>\n",
              "            <td>0</td>\n",
              "        </tr>\n",
              "        <tr>\n",
              "            <td>tt0000001</td>\n",
              "            <td>5</td>\n",
              "            <td>Карменсита</td>\n",
              "            <td>RU</td>\n",
              "            <td>\\N</td>\n",
              "            <td>imdbDisplay</td>\n",
              "            <td>\\N</td>\n",
              "            <td>0</td>\n",
              "        </tr>\n",
              "    </tbody>\n",
              "</table>"
            ]
          },
          "metadata": {},
          "execution_count": 4
        }
      ]
    },
    {
      "cell_type": "code",
      "execution_count": null,
      "metadata": {
        "colab": {
          "base_uri": "https://localhost:8080/",
          "height": 182
        },
        "id": "Azzz8UXNoVH0",
        "outputId": "24ce3dde-b0e2-42ff-da0b-ebbea24b2160"
      },
      "outputs": [
        {
          "output_type": "stream",
          "name": "stdout",
          "text": [
            " * sqlite:////content/drive/MyDrive/Colab_Notebooks/sql_imdb/imdb.db\n",
            "Done.\n"
          ]
        },
        {
          "output_type": "execute_result",
          "data": {
            "text/plain": [
              "[('tt0000001', '5.7', '1910'),\n",
              " ('tt0000002', '5.8', '256'),\n",
              " ('tt0000003', '6.5', '1712'),\n",
              " ('tt0000004', '5.6', '169'),\n",
              " ('tt0000005', '6.2', '2527')]"
            ],
            "text/html": [
              "<table>\n",
              "    <thead>\n",
              "        <tr>\n",
              "            <th>tconst</th>\n",
              "            <th>averageRating</th>\n",
              "            <th>numVotes</th>\n",
              "        </tr>\n",
              "    </thead>\n",
              "    <tbody>\n",
              "        <tr>\n",
              "            <td>tt0000001</td>\n",
              "            <td>5.7</td>\n",
              "            <td>1910</td>\n",
              "        </tr>\n",
              "        <tr>\n",
              "            <td>tt0000002</td>\n",
              "            <td>5.8</td>\n",
              "            <td>256</td>\n",
              "        </tr>\n",
              "        <tr>\n",
              "            <td>tt0000003</td>\n",
              "            <td>6.5</td>\n",
              "            <td>1712</td>\n",
              "        </tr>\n",
              "        <tr>\n",
              "            <td>tt0000004</td>\n",
              "            <td>5.6</td>\n",
              "            <td>169</td>\n",
              "        </tr>\n",
              "        <tr>\n",
              "            <td>tt0000005</td>\n",
              "            <td>6.2</td>\n",
              "            <td>2527</td>\n",
              "        </tr>\n",
              "    </tbody>\n",
              "</table>"
            ]
          },
          "metadata": {},
          "execution_count": 5
        }
      ],
      "source": [
        "%%sql \n",
        "\n",
        "SELECT * FROM ratings LIMIT 5;"
      ]
    },
    {
      "cell_type": "code",
      "execution_count": null,
      "metadata": {
        "colab": {
          "base_uri": "https://localhost:8080/",
          "height": 182
        },
        "id": "uynSjcJrteBt",
        "outputId": "9d3758f9-6eff-4940-85ad-a8451ea4f17e"
      },
      "outputs": [
        {
          "output_type": "stream",
          "name": "stdout",
          "text": [
            " * sqlite:////content/drive/MyDrive/Colab_Notebooks/sql_imdb/imdb.db\n",
            "Done.\n"
          ]
        },
        {
          "output_type": "execute_result",
          "data": {
            "text/plain": [
              "[('tt0000001', 'nm0005690', '\\\\N'),\n",
              " ('tt0000002', 'nm0721526', '\\\\N'),\n",
              " ('tt0000003', 'nm0721526', '\\\\N'),\n",
              " ('tt0000004', 'nm0721526', '\\\\N'),\n",
              " ('tt0000005', 'nm0005690', '\\\\N')]"
            ],
            "text/html": [
              "<table>\n",
              "    <thead>\n",
              "        <tr>\n",
              "            <th>tconst</th>\n",
              "            <th>directors</th>\n",
              "            <th>writers</th>\n",
              "        </tr>\n",
              "    </thead>\n",
              "    <tbody>\n",
              "        <tr>\n",
              "            <td>tt0000001</td>\n",
              "            <td>nm0005690</td>\n",
              "            <td>\\N</td>\n",
              "        </tr>\n",
              "        <tr>\n",
              "            <td>tt0000002</td>\n",
              "            <td>nm0721526</td>\n",
              "            <td>\\N</td>\n",
              "        </tr>\n",
              "        <tr>\n",
              "            <td>tt0000003</td>\n",
              "            <td>nm0721526</td>\n",
              "            <td>\\N</td>\n",
              "        </tr>\n",
              "        <tr>\n",
              "            <td>tt0000004</td>\n",
              "            <td>nm0721526</td>\n",
              "            <td>\\N</td>\n",
              "        </tr>\n",
              "        <tr>\n",
              "            <td>tt0000005</td>\n",
              "            <td>nm0005690</td>\n",
              "            <td>\\N</td>\n",
              "        </tr>\n",
              "    </tbody>\n",
              "</table>"
            ]
          },
          "metadata": {},
          "execution_count": 6
        }
      ],
      "source": [
        "%%sql\n",
        "\n",
        "SELECT * FROM crew LIMIT 5;"
      ]
    },
    {
      "cell_type": "code",
      "execution_count": null,
      "metadata": {
        "colab": {
          "base_uri": "https://localhost:8080/",
          "height": 182
        },
        "id": "PAbr7f13Q3hn",
        "outputId": "91dc5bbd-33d8-4bb9-90e7-b4da98d15a93"
      },
      "outputs": [
        {
          "output_type": "stream",
          "name": "stdout",
          "text": [
            " * sqlite:////content/drive/MyDrive/Colab_Notebooks/sql_imdb/imdb.db\n",
            "Done.\n"
          ]
        },
        {
          "output_type": "execute_result",
          "data": {
            "text/plain": [
              "[('nm0000001', 'Fred Astaire', '1899', '1987', 'soundtrack,actor,miscellaneous', 'tt0053137,tt0072308,tt0050419,tt0031983'),\n",
              " ('nm0000002', 'Lauren Bacall', '1924', '2014', 'actress,soundtrack', 'tt0038355,tt0071877,tt0117057,tt0037382'),\n",
              " ('nm0000003', 'Brigitte Bardot', '1934', '\\\\N', 'actress,soundtrack,music_department', 'tt0054452,tt0049189,tt0057345,tt0056404'),\n",
              " ('nm0000004', 'John Belushi', '1949', '1982', 'actor,soundtrack,writer', 'tt0077975,tt0072562,tt0080455,tt0078723'),\n",
              " ('nm0000005', 'Ingmar Bergman', '1918', '2007', 'writer,director,actor', 'tt0083922,tt0050986,tt0060827,tt0050976')]"
            ],
            "text/html": [
              "<table>\n",
              "    <thead>\n",
              "        <tr>\n",
              "            <th>nconst</th>\n",
              "            <th>primaryName</th>\n",
              "            <th>birthYear</th>\n",
              "            <th>deathYear</th>\n",
              "            <th>primaryProfession</th>\n",
              "            <th>knownForTitles</th>\n",
              "        </tr>\n",
              "    </thead>\n",
              "    <tbody>\n",
              "        <tr>\n",
              "            <td>nm0000001</td>\n",
              "            <td>Fred Astaire</td>\n",
              "            <td>1899</td>\n",
              "            <td>1987</td>\n",
              "            <td>soundtrack,actor,miscellaneous</td>\n",
              "            <td>tt0053137,tt0072308,tt0050419,tt0031983</td>\n",
              "        </tr>\n",
              "        <tr>\n",
              "            <td>nm0000002</td>\n",
              "            <td>Lauren Bacall</td>\n",
              "            <td>1924</td>\n",
              "            <td>2014</td>\n",
              "            <td>actress,soundtrack</td>\n",
              "            <td>tt0038355,tt0071877,tt0117057,tt0037382</td>\n",
              "        </tr>\n",
              "        <tr>\n",
              "            <td>nm0000003</td>\n",
              "            <td>Brigitte Bardot</td>\n",
              "            <td>1934</td>\n",
              "            <td>\\N</td>\n",
              "            <td>actress,soundtrack,music_department</td>\n",
              "            <td>tt0054452,tt0049189,tt0057345,tt0056404</td>\n",
              "        </tr>\n",
              "        <tr>\n",
              "            <td>nm0000004</td>\n",
              "            <td>John Belushi</td>\n",
              "            <td>1949</td>\n",
              "            <td>1982</td>\n",
              "            <td>actor,soundtrack,writer</td>\n",
              "            <td>tt0077975,tt0072562,tt0080455,tt0078723</td>\n",
              "        </tr>\n",
              "        <tr>\n",
              "            <td>nm0000005</td>\n",
              "            <td>Ingmar Bergman</td>\n",
              "            <td>1918</td>\n",
              "            <td>2007</td>\n",
              "            <td>writer,director,actor</td>\n",
              "            <td>tt0083922,tt0050986,tt0060827,tt0050976</td>\n",
              "        </tr>\n",
              "    </tbody>\n",
              "</table>"
            ]
          },
          "metadata": {},
          "execution_count": 7
        }
      ],
      "source": [
        "%%sql\n",
        "\n",
        "SELECT * FROM names LIMIT 5;"
      ]
    },
    {
      "cell_type": "markdown",
      "metadata": {
        "id": "ptqSjlP-ogT9"
      },
      "source": [
        "### QUERIES\n",
        "\n",
        "1. **Which decade from the 20th century has better ratings?** Are pre '60s films (golden age of Hollywood) just better?\n",
        "\n",
        "  * To obtain that info we need to merge ```basics``` with ```ratings``` into a single table. \n",
        "  * Not every movie reviewed in ```ratings``` is present in ```basics``` but an inner join is preferred because we want complete data of the attributes *startYear* and *averageRating*\n",
        "\n"
      ]
    },
    {
      "cell_type": "code",
      "source": [
        "%%sql\n",
        "\n",
        "SELECT \n",
        "  ROUND(AVG(averageRating),3) AS avg_rating,\n",
        "  MIN(averageRating) AS min_rating,\n",
        "  MAX(averageRating) AS max_rating,\n",
        "  SUBSTR(CAST(startYear as TEXT),3,1) || '0s' AS decade\n",
        "FROM basics \n",
        "  INNER JOIN ratings ON basics.tconst = ratings.tconst\n",
        "WHERE startYear >= 1900 AND startYear <= 1999 AND startYear != '\\N' AND titleType = 'movie' \n",
        "GROUP BY decade\n",
        "ORDER BY decade ASC;"
      ],
      "metadata": {
        "colab": {
          "base_uri": "https://localhost:8080/",
          "height": 289
        },
        "id": "YSrFol91Gk4J",
        "outputId": "42991b4d-2158-4c6f-fa2e-3893020e5898"
      },
      "execution_count": 3,
      "outputs": [
        {
          "output_type": "stream",
          "name": "stdout",
          "text": [
            " * sqlite:////content/drive/MyDrive/Colab_Notebooks/sql_imdb/imdb.db\n",
            "Done.\n"
          ]
        },
        {
          "output_type": "execute_result",
          "data": {
            "text/plain": [
              "[(4.241, '2.5', '7.4', '00s'),\n",
              " (5.886, '1.0', '9.2', '10s'),\n",
              " (6.095, '1.0', '9.3', '20s'),\n",
              " (6.078, '1.1', '9.4', '30s'),\n",
              " (6.174, '1.0', '9.5', '40s'),\n",
              " (6.269, '1.2', '9.5', '50s'),\n",
              " (6.17, '1.0', '9.4', '60s'),\n",
              " (5.976, '1.1', '9.8', '70s'),\n",
              " (5.996, '1.0', '9.8', '80s'),\n",
              " (6.0, '1.0', '9.8', '90s')]"
            ],
            "text/html": [
              "<table>\n",
              "    <thead>\n",
              "        <tr>\n",
              "            <th>avg_rating</th>\n",
              "            <th>min_rating</th>\n",
              "            <th>max_rating</th>\n",
              "            <th>decade</th>\n",
              "        </tr>\n",
              "    </thead>\n",
              "    <tbody>\n",
              "        <tr>\n",
              "            <td>4.241</td>\n",
              "            <td>2.5</td>\n",
              "            <td>7.4</td>\n",
              "            <td>00s</td>\n",
              "        </tr>\n",
              "        <tr>\n",
              "            <td>5.886</td>\n",
              "            <td>1.0</td>\n",
              "            <td>9.2</td>\n",
              "            <td>10s</td>\n",
              "        </tr>\n",
              "        <tr>\n",
              "            <td>6.095</td>\n",
              "            <td>1.0</td>\n",
              "            <td>9.3</td>\n",
              "            <td>20s</td>\n",
              "        </tr>\n",
              "        <tr>\n",
              "            <td>6.078</td>\n",
              "            <td>1.1</td>\n",
              "            <td>9.4</td>\n",
              "            <td>30s</td>\n",
              "        </tr>\n",
              "        <tr>\n",
              "            <td>6.174</td>\n",
              "            <td>1.0</td>\n",
              "            <td>9.5</td>\n",
              "            <td>40s</td>\n",
              "        </tr>\n",
              "        <tr>\n",
              "            <td>6.269</td>\n",
              "            <td>1.2</td>\n",
              "            <td>9.5</td>\n",
              "            <td>50s</td>\n",
              "        </tr>\n",
              "        <tr>\n",
              "            <td>6.17</td>\n",
              "            <td>1.0</td>\n",
              "            <td>9.4</td>\n",
              "            <td>60s</td>\n",
              "        </tr>\n",
              "        <tr>\n",
              "            <td>5.976</td>\n",
              "            <td>1.1</td>\n",
              "            <td>9.8</td>\n",
              "            <td>70s</td>\n",
              "        </tr>\n",
              "        <tr>\n",
              "            <td>5.996</td>\n",
              "            <td>1.0</td>\n",
              "            <td>9.8</td>\n",
              "            <td>80s</td>\n",
              "        </tr>\n",
              "        <tr>\n",
              "            <td>6.0</td>\n",
              "            <td>1.0</td>\n",
              "            <td>9.8</td>\n",
              "            <td>90s</td>\n",
              "        </tr>\n",
              "    </tbody>\n",
              "</table>"
            ]
          },
          "metadata": {},
          "execution_count": 3
        }
      ]
    },
    {
      "cell_type": "markdown",
      "source": [
        "Look at that! The interval 1940-1969 has the best scores. And the first decade, when cinema was still at its infancy, has the worst ratings. But SQLite doesn't have many aggregation functions. It would also be interesting to know things like the variance of ratings. We can do that with pandas."
      ],
      "metadata": {
        "id": "fF1C-90czxSy"
      }
    },
    {
      "cell_type": "markdown",
      "source": [
        "The query we want to transform into a pandas dataframe:\n",
        "\n",
        "```sql\n",
        "SELECT \n",
        "  primaryTitle AS title, \n",
        "  CAST(averageRating AS NUMERIC) AS rating, \n",
        "  startYear AS year, \n",
        "  SUBSTR(CAST(startYear as TEXT),3,1) || '0s' AS decade  \n",
        "FROM basics \n",
        "  INNER JOIN ratings ON basics.tconst = ratings.tconst \n",
        "WHERE startYear >= 1900 AND startYear <= 1999 AND startYear != '\\N' AND titleType = 'movie'\n",
        "```\n",
        "The main difference is that the results are not aggregated. We'll do those operations with python\n"
      ],
      "metadata": {
        "id": "GQw8exov7wPp"
      }
    },
    {
      "cell_type": "code",
      "source": [
        "import pandas as pd\n",
        "import matplotlib.pyplot as plt\n",
        "import seaborn as sns\n",
        "sns.set_theme()"
      ],
      "metadata": {
        "id": "yzHlykVR9diq"
      },
      "execution_count": 4,
      "outputs": []
    },
    {
      "cell_type": "code",
      "source": [
        "res = %sql SELECT primaryTitle AS title, CAST(averageRating AS NUMERIC) AS rating, startYear AS year, SUBSTR(CAST(startYear as TEXT),3,1) || '0s' AS decade  FROM basics INNER JOIN ratings ON basics.tconst = ratings.tconst WHERE startYear >= 1900 AND startYear <= 1999 AND startYear != '\\N' AND titleType = 'movie'\n",
        "df = res.DataFrame()\n",
        "display(df.sample(5),\n",
        "        df.info())"
      ],
      "metadata": {
        "colab": {
          "base_uri": "https://localhost:8080/",
          "height": 449
        },
        "id": "vFXGYLXrOIjL",
        "outputId": "b09ac1e1-4c9c-4e49-e750-06691bc2a158"
      },
      "execution_count": 28,
      "outputs": [
        {
          "output_type": "stream",
          "name": "stdout",
          "text": [
            " * sqlite:////content/drive/MyDrive/Colab_Notebooks/sql_imdb/imdb.db\n",
            "Done.\n",
            "<class 'pandas.core.frame.DataFrame'>\n",
            "RangeIndex: 94197 entries, 0 to 94196\n",
            "Data columns (total 4 columns):\n",
            " #   Column  Non-Null Count  Dtype  \n",
            "---  ------  --------------  -----  \n",
            " 0   title   94197 non-null  object \n",
            " 1   rating  94197 non-null  float64\n",
            " 2   year    94197 non-null  object \n",
            " 3   decade  94197 non-null  object \n",
            "dtypes: float64(1), object(3)\n",
            "memory usage: 2.9+ MB\n"
          ]
        },
        {
          "output_type": "display_data",
          "data": {
            "text/plain": [
              "                       title  rating  year decade\n",
              "5065        Tonight or Never     6.6  1931    30s\n",
              "7495        Naughty Marietta     6.6  1935    30s\n",
              "5267      A Farewell to Arms     6.4  1932    30s\n",
              "71213  Harry Hard, Detective     4.0  1971    70s\n",
              "10688      Miseria e nobiltà     6.9  1940    40s"
            ],
            "text/html": [
              "\n",
              "  <div id=\"df-a123d686-c7d0-4749-9eaf-3de741937372\">\n",
              "    <div class=\"colab-df-container\">\n",
              "      <div>\n",
              "<style scoped>\n",
              "    .dataframe tbody tr th:only-of-type {\n",
              "        vertical-align: middle;\n",
              "    }\n",
              "\n",
              "    .dataframe tbody tr th {\n",
              "        vertical-align: top;\n",
              "    }\n",
              "\n",
              "    .dataframe thead th {\n",
              "        text-align: right;\n",
              "    }\n",
              "</style>\n",
              "<table border=\"1\" class=\"dataframe\">\n",
              "  <thead>\n",
              "    <tr style=\"text-align: right;\">\n",
              "      <th></th>\n",
              "      <th>title</th>\n",
              "      <th>rating</th>\n",
              "      <th>year</th>\n",
              "      <th>decade</th>\n",
              "    </tr>\n",
              "  </thead>\n",
              "  <tbody>\n",
              "    <tr>\n",
              "      <th>5065</th>\n",
              "      <td>Tonight or Never</td>\n",
              "      <td>6.6</td>\n",
              "      <td>1931</td>\n",
              "      <td>30s</td>\n",
              "    </tr>\n",
              "    <tr>\n",
              "      <th>7495</th>\n",
              "      <td>Naughty Marietta</td>\n",
              "      <td>6.6</td>\n",
              "      <td>1935</td>\n",
              "      <td>30s</td>\n",
              "    </tr>\n",
              "    <tr>\n",
              "      <th>5267</th>\n",
              "      <td>A Farewell to Arms</td>\n",
              "      <td>6.4</td>\n",
              "      <td>1932</td>\n",
              "      <td>30s</td>\n",
              "    </tr>\n",
              "    <tr>\n",
              "      <th>71213</th>\n",
              "      <td>Harry Hard, Detective</td>\n",
              "      <td>4.0</td>\n",
              "      <td>1971</td>\n",
              "      <td>70s</td>\n",
              "    </tr>\n",
              "    <tr>\n",
              "      <th>10688</th>\n",
              "      <td>Miseria e nobiltà</td>\n",
              "      <td>6.9</td>\n",
              "      <td>1940</td>\n",
              "      <td>40s</td>\n",
              "    </tr>\n",
              "  </tbody>\n",
              "</table>\n",
              "</div>\n",
              "      <button class=\"colab-df-convert\" onclick=\"convertToInteractive('df-a123d686-c7d0-4749-9eaf-3de741937372')\"\n",
              "              title=\"Convert this dataframe to an interactive table.\"\n",
              "              style=\"display:none;\">\n",
              "        \n",
              "  <svg xmlns=\"http://www.w3.org/2000/svg\" height=\"24px\"viewBox=\"0 0 24 24\"\n",
              "       width=\"24px\">\n",
              "    <path d=\"M0 0h24v24H0V0z\" fill=\"none\"/>\n",
              "    <path d=\"M18.56 5.44l.94 2.06.94-2.06 2.06-.94-2.06-.94-.94-2.06-.94 2.06-2.06.94zm-11 1L8.5 8.5l.94-2.06 2.06-.94-2.06-.94L8.5 2.5l-.94 2.06-2.06.94zm10 10l.94 2.06.94-2.06 2.06-.94-2.06-.94-.94-2.06-.94 2.06-2.06.94z\"/><path d=\"M17.41 7.96l-1.37-1.37c-.4-.4-.92-.59-1.43-.59-.52 0-1.04.2-1.43.59L10.3 9.45l-7.72 7.72c-.78.78-.78 2.05 0 2.83L4 21.41c.39.39.9.59 1.41.59.51 0 1.02-.2 1.41-.59l7.78-7.78 2.81-2.81c.8-.78.8-2.07 0-2.86zM5.41 20L4 18.59l7.72-7.72 1.47 1.35L5.41 20z\"/>\n",
              "  </svg>\n",
              "      </button>\n",
              "      \n",
              "  <style>\n",
              "    .colab-df-container {\n",
              "      display:flex;\n",
              "      flex-wrap:wrap;\n",
              "      gap: 12px;\n",
              "    }\n",
              "\n",
              "    .colab-df-convert {\n",
              "      background-color: #E8F0FE;\n",
              "      border: none;\n",
              "      border-radius: 50%;\n",
              "      cursor: pointer;\n",
              "      display: none;\n",
              "      fill: #1967D2;\n",
              "      height: 32px;\n",
              "      padding: 0 0 0 0;\n",
              "      width: 32px;\n",
              "    }\n",
              "\n",
              "    .colab-df-convert:hover {\n",
              "      background-color: #E2EBFA;\n",
              "      box-shadow: 0px 1px 2px rgba(60, 64, 67, 0.3), 0px 1px 3px 1px rgba(60, 64, 67, 0.15);\n",
              "      fill: #174EA6;\n",
              "    }\n",
              "\n",
              "    [theme=dark] .colab-df-convert {\n",
              "      background-color: #3B4455;\n",
              "      fill: #D2E3FC;\n",
              "    }\n",
              "\n",
              "    [theme=dark] .colab-df-convert:hover {\n",
              "      background-color: #434B5C;\n",
              "      box-shadow: 0px 1px 3px 1px rgba(0, 0, 0, 0.15);\n",
              "      filter: drop-shadow(0px 1px 2px rgba(0, 0, 0, 0.3));\n",
              "      fill: #FFFFFF;\n",
              "    }\n",
              "  </style>\n",
              "\n",
              "      <script>\n",
              "        const buttonEl =\n",
              "          document.querySelector('#df-a123d686-c7d0-4749-9eaf-3de741937372 button.colab-df-convert');\n",
              "        buttonEl.style.display =\n",
              "          google.colab.kernel.accessAllowed ? 'block' : 'none';\n",
              "\n",
              "        async function convertToInteractive(key) {\n",
              "          const element = document.querySelector('#df-a123d686-c7d0-4749-9eaf-3de741937372');\n",
              "          const dataTable =\n",
              "            await google.colab.kernel.invokeFunction('convertToInteractive',\n",
              "                                                     [key], {});\n",
              "          if (!dataTable) return;\n",
              "\n",
              "          const docLinkHtml = 'Like what you see? Visit the ' +\n",
              "            '<a target=\"_blank\" href=https://colab.research.google.com/notebooks/data_table.ipynb>data table notebook</a>'\n",
              "            + ' to learn more about interactive tables.';\n",
              "          element.innerHTML = '';\n",
              "          dataTable['output_type'] = 'display_data';\n",
              "          await google.colab.output.renderOutput(dataTable, element);\n",
              "          const docLink = document.createElement('div');\n",
              "          docLink.innerHTML = docLinkHtml;\n",
              "          element.appendChild(docLink);\n",
              "        }\n",
              "      </script>\n",
              "    </div>\n",
              "  </div>\n",
              "  "
            ]
          },
          "metadata": {}
        },
        {
          "output_type": "display_data",
          "data": {
            "text/plain": [
              "None"
            ]
          },
          "metadata": {}
        }
      ]
    },
    {
      "cell_type": "code",
      "source": [
        "grouped = df.groupby('decade')['rating'].describe().reset_index()\n",
        "grouped"
      ],
      "metadata": {
        "colab": {
          "base_uri": "https://localhost:8080/",
          "height": 363
        },
        "id": "B6OhURx8RLRk",
        "outputId": "5a210a70-f140-4652-f1e1-1d44fd1af74f"
      },
      "execution_count": 6,
      "outputs": [
        {
          "output_type": "execute_result",
          "data": {
            "text/plain": [
              "  decade    count      mean       std  min  25%  50%  75%   max\n",
              "0    00s     79.0  4.240506  0.996471  2.5  3.6  4.1  5.0   7.4\n",
              "1    10s   1604.0  5.885910  1.191894  1.0  5.3  6.0  6.6   9.2\n",
              "2    20s   3738.0  6.095131  1.162731  1.0  5.6  6.3  6.9   9.3\n",
              "3    30s   8754.0  6.077862  0.879250  1.1  5.6  6.2  6.7   9.4\n",
              "4    40s   2774.0  6.174153  1.028466  1.0  5.6  6.3  6.9   9.5\n",
              "5    50s   4316.0  6.268837  1.100633  1.2  5.6  6.4  7.0   9.5\n",
              "6    60s   7915.0  6.169779  1.186996  1.0  5.4  6.3  7.0  10.0\n",
              "7    70s  15827.0  5.975889  1.236269  1.1  5.2  6.1  6.8  10.0\n",
              "8    80s  23651.0  5.996410  1.240567  1.0  5.2  6.1  6.9   9.8\n",
              "9    90s  25539.0  6.000329  1.295696  1.0  5.2  6.1  6.9  10.0"
            ],
            "text/html": [
              "\n",
              "  <div id=\"df-6d774ba8-2a21-4b68-a0c9-40ea7f7af2ee\">\n",
              "    <div class=\"colab-df-container\">\n",
              "      <div>\n",
              "<style scoped>\n",
              "    .dataframe tbody tr th:only-of-type {\n",
              "        vertical-align: middle;\n",
              "    }\n",
              "\n",
              "    .dataframe tbody tr th {\n",
              "        vertical-align: top;\n",
              "    }\n",
              "\n",
              "    .dataframe thead th {\n",
              "        text-align: right;\n",
              "    }\n",
              "</style>\n",
              "<table border=\"1\" class=\"dataframe\">\n",
              "  <thead>\n",
              "    <tr style=\"text-align: right;\">\n",
              "      <th></th>\n",
              "      <th>decade</th>\n",
              "      <th>count</th>\n",
              "      <th>mean</th>\n",
              "      <th>std</th>\n",
              "      <th>min</th>\n",
              "      <th>25%</th>\n",
              "      <th>50%</th>\n",
              "      <th>75%</th>\n",
              "      <th>max</th>\n",
              "    </tr>\n",
              "  </thead>\n",
              "  <tbody>\n",
              "    <tr>\n",
              "      <th>0</th>\n",
              "      <td>00s</td>\n",
              "      <td>79.0</td>\n",
              "      <td>4.240506</td>\n",
              "      <td>0.996471</td>\n",
              "      <td>2.5</td>\n",
              "      <td>3.6</td>\n",
              "      <td>4.1</td>\n",
              "      <td>5.0</td>\n",
              "      <td>7.4</td>\n",
              "    </tr>\n",
              "    <tr>\n",
              "      <th>1</th>\n",
              "      <td>10s</td>\n",
              "      <td>1604.0</td>\n",
              "      <td>5.885910</td>\n",
              "      <td>1.191894</td>\n",
              "      <td>1.0</td>\n",
              "      <td>5.3</td>\n",
              "      <td>6.0</td>\n",
              "      <td>6.6</td>\n",
              "      <td>9.2</td>\n",
              "    </tr>\n",
              "    <tr>\n",
              "      <th>2</th>\n",
              "      <td>20s</td>\n",
              "      <td>3738.0</td>\n",
              "      <td>6.095131</td>\n",
              "      <td>1.162731</td>\n",
              "      <td>1.0</td>\n",
              "      <td>5.6</td>\n",
              "      <td>6.3</td>\n",
              "      <td>6.9</td>\n",
              "      <td>9.3</td>\n",
              "    </tr>\n",
              "    <tr>\n",
              "      <th>3</th>\n",
              "      <td>30s</td>\n",
              "      <td>8754.0</td>\n",
              "      <td>6.077862</td>\n",
              "      <td>0.879250</td>\n",
              "      <td>1.1</td>\n",
              "      <td>5.6</td>\n",
              "      <td>6.2</td>\n",
              "      <td>6.7</td>\n",
              "      <td>9.4</td>\n",
              "    </tr>\n",
              "    <tr>\n",
              "      <th>4</th>\n",
              "      <td>40s</td>\n",
              "      <td>2774.0</td>\n",
              "      <td>6.174153</td>\n",
              "      <td>1.028466</td>\n",
              "      <td>1.0</td>\n",
              "      <td>5.6</td>\n",
              "      <td>6.3</td>\n",
              "      <td>6.9</td>\n",
              "      <td>9.5</td>\n",
              "    </tr>\n",
              "    <tr>\n",
              "      <th>5</th>\n",
              "      <td>50s</td>\n",
              "      <td>4316.0</td>\n",
              "      <td>6.268837</td>\n",
              "      <td>1.100633</td>\n",
              "      <td>1.2</td>\n",
              "      <td>5.6</td>\n",
              "      <td>6.4</td>\n",
              "      <td>7.0</td>\n",
              "      <td>9.5</td>\n",
              "    </tr>\n",
              "    <tr>\n",
              "      <th>6</th>\n",
              "      <td>60s</td>\n",
              "      <td>7915.0</td>\n",
              "      <td>6.169779</td>\n",
              "      <td>1.186996</td>\n",
              "      <td>1.0</td>\n",
              "      <td>5.4</td>\n",
              "      <td>6.3</td>\n",
              "      <td>7.0</td>\n",
              "      <td>10.0</td>\n",
              "    </tr>\n",
              "    <tr>\n",
              "      <th>7</th>\n",
              "      <td>70s</td>\n",
              "      <td>15827.0</td>\n",
              "      <td>5.975889</td>\n",
              "      <td>1.236269</td>\n",
              "      <td>1.1</td>\n",
              "      <td>5.2</td>\n",
              "      <td>6.1</td>\n",
              "      <td>6.8</td>\n",
              "      <td>10.0</td>\n",
              "    </tr>\n",
              "    <tr>\n",
              "      <th>8</th>\n",
              "      <td>80s</td>\n",
              "      <td>23651.0</td>\n",
              "      <td>5.996410</td>\n",
              "      <td>1.240567</td>\n",
              "      <td>1.0</td>\n",
              "      <td>5.2</td>\n",
              "      <td>6.1</td>\n",
              "      <td>6.9</td>\n",
              "      <td>9.8</td>\n",
              "    </tr>\n",
              "    <tr>\n",
              "      <th>9</th>\n",
              "      <td>90s</td>\n",
              "      <td>25539.0</td>\n",
              "      <td>6.000329</td>\n",
              "      <td>1.295696</td>\n",
              "      <td>1.0</td>\n",
              "      <td>5.2</td>\n",
              "      <td>6.1</td>\n",
              "      <td>6.9</td>\n",
              "      <td>10.0</td>\n",
              "    </tr>\n",
              "  </tbody>\n",
              "</table>\n",
              "</div>\n",
              "      <button class=\"colab-df-convert\" onclick=\"convertToInteractive('df-6d774ba8-2a21-4b68-a0c9-40ea7f7af2ee')\"\n",
              "              title=\"Convert this dataframe to an interactive table.\"\n",
              "              style=\"display:none;\">\n",
              "        \n",
              "  <svg xmlns=\"http://www.w3.org/2000/svg\" height=\"24px\"viewBox=\"0 0 24 24\"\n",
              "       width=\"24px\">\n",
              "    <path d=\"M0 0h24v24H0V0z\" fill=\"none\"/>\n",
              "    <path d=\"M18.56 5.44l.94 2.06.94-2.06 2.06-.94-2.06-.94-.94-2.06-.94 2.06-2.06.94zm-11 1L8.5 8.5l.94-2.06 2.06-.94-2.06-.94L8.5 2.5l-.94 2.06-2.06.94zm10 10l.94 2.06.94-2.06 2.06-.94-2.06-.94-.94-2.06-.94 2.06-2.06.94z\"/><path d=\"M17.41 7.96l-1.37-1.37c-.4-.4-.92-.59-1.43-.59-.52 0-1.04.2-1.43.59L10.3 9.45l-7.72 7.72c-.78.78-.78 2.05 0 2.83L4 21.41c.39.39.9.59 1.41.59.51 0 1.02-.2 1.41-.59l7.78-7.78 2.81-2.81c.8-.78.8-2.07 0-2.86zM5.41 20L4 18.59l7.72-7.72 1.47 1.35L5.41 20z\"/>\n",
              "  </svg>\n",
              "      </button>\n",
              "      \n",
              "  <style>\n",
              "    .colab-df-container {\n",
              "      display:flex;\n",
              "      flex-wrap:wrap;\n",
              "      gap: 12px;\n",
              "    }\n",
              "\n",
              "    .colab-df-convert {\n",
              "      background-color: #E8F0FE;\n",
              "      border: none;\n",
              "      border-radius: 50%;\n",
              "      cursor: pointer;\n",
              "      display: none;\n",
              "      fill: #1967D2;\n",
              "      height: 32px;\n",
              "      padding: 0 0 0 0;\n",
              "      width: 32px;\n",
              "    }\n",
              "\n",
              "    .colab-df-convert:hover {\n",
              "      background-color: #E2EBFA;\n",
              "      box-shadow: 0px 1px 2px rgba(60, 64, 67, 0.3), 0px 1px 3px 1px rgba(60, 64, 67, 0.15);\n",
              "      fill: #174EA6;\n",
              "    }\n",
              "\n",
              "    [theme=dark] .colab-df-convert {\n",
              "      background-color: #3B4455;\n",
              "      fill: #D2E3FC;\n",
              "    }\n",
              "\n",
              "    [theme=dark] .colab-df-convert:hover {\n",
              "      background-color: #434B5C;\n",
              "      box-shadow: 0px 1px 3px 1px rgba(0, 0, 0, 0.15);\n",
              "      filter: drop-shadow(0px 1px 2px rgba(0, 0, 0, 0.3));\n",
              "      fill: #FFFFFF;\n",
              "    }\n",
              "  </style>\n",
              "\n",
              "      <script>\n",
              "        const buttonEl =\n",
              "          document.querySelector('#df-6d774ba8-2a21-4b68-a0c9-40ea7f7af2ee button.colab-df-convert');\n",
              "        buttonEl.style.display =\n",
              "          google.colab.kernel.accessAllowed ? 'block' : 'none';\n",
              "\n",
              "        async function convertToInteractive(key) {\n",
              "          const element = document.querySelector('#df-6d774ba8-2a21-4b68-a0c9-40ea7f7af2ee');\n",
              "          const dataTable =\n",
              "            await google.colab.kernel.invokeFunction('convertToInteractive',\n",
              "                                                     [key], {});\n",
              "          if (!dataTable) return;\n",
              "\n",
              "          const docLinkHtml = 'Like what you see? Visit the ' +\n",
              "            '<a target=\"_blank\" href=https://colab.research.google.com/notebooks/data_table.ipynb>data table notebook</a>'\n",
              "            + ' to learn more about interactive tables.';\n",
              "          element.innerHTML = '';\n",
              "          dataTable['output_type'] = 'display_data';\n",
              "          await google.colab.output.renderOutput(dataTable, element);\n",
              "          const docLink = document.createElement('div');\n",
              "          docLink.innerHTML = docLinkHtml;\n",
              "          element.appendChild(docLink);\n",
              "        }\n",
              "      </script>\n",
              "    </div>\n",
              "  </div>\n",
              "  "
            ]
          },
          "metadata": {},
          "execution_count": 6
        }
      ]
    },
    {
      "cell_type": "code",
      "source": [
        "# df.iloc[df.groupby('decade')['rating'].idxmax()]\n",
        "g = sns.FacetGrid(df[['rating','decade']],col='decade',col_wrap=5,col_order=sorted(df.decade.unique()))\n",
        "g.map(sns.histplot,'rating',stat='percent',bins=30)\n",
        "g.set_titles(col_template=\"decade = '{col_name}\")"
      ],
      "metadata": {
        "colab": {
          "base_uri": "https://localhost:8080/",
          "height": 454
        },
        "id": "t46Em8S05hWz",
        "outputId": "024bb9cd-403b-424a-e546-1e90447c8228"
      },
      "execution_count": 7,
      "outputs": [
        {
          "output_type": "execute_result",
          "data": {
            "text/plain": [
              "<seaborn.axisgrid.FacetGrid at 0x7fe42a792190>"
            ]
          },
          "metadata": {},
          "execution_count": 7
        },
        {
          "output_type": "display_data",
          "data": {
            "text/plain": [
              "<Figure size 1080x432 with 10 Axes>"
            ],
            "image/png": "[encoded data removed]"
          },
          "metadata": {}
        }
      ]
    },
    {
      "cell_type": "code",
      "source": [
        "fig,ax = plt.subplots(nrows=3,ncols=1,figsize=(10,10),sharex=True)\n",
        "sns.pointplot(ax=ax[0],data=grouped,x='decade',y='count')\n",
        "sns.pointplot(ax=ax[1],data=grouped,x='decade',y='std')\n",
        "sns.pointplot(ax=ax[2],data=grouped,x='decade',y='mean')"
      ],
      "metadata": {
        "colab": {
          "base_uri": "https://localhost:8080/",
          "height": 628
        },
        "id": "Qu8YOJbGhXxZ",
        "outputId": "d822b0e1-0b48-4735-d400-38ca93df0d01"
      },
      "execution_count": 8,
      "outputs": [
        {
          "output_type": "execute_result",
          "data": {
            "text/plain": [
              "<matplotlib.axes._subplots.AxesSubplot at 0x7fe418317bd0>"
            ]
          },
          "metadata": {},
          "execution_count": 8
        },
        {
          "output_type": "display_data",
          "data": {
            "text/plain": [
              "<Figure size 720x720 with 3 Axes>"
            ],
            "image/png": "[encoded data removed]"
          },
          "metadata": {}
        }
      ]
    },
    {
      "cell_type": "markdown",
      "source": [
        "\n",
        "The histograms reveal that the distribution of scores is bell-shaped and maybe (approximately) normal. The majority of titles are just OK (score of around 6) and very good/bad movies are rare. This pattern is more obvious in the second half of the century. There are more clear deviations from normality in previous decades. For instance, the distribution for the '20s is a bit skewed, with a greater proportion of films with bad ratings (below 5). We can appreciate this on the long left \"tail\" of the histogram.\n",
        "\n",
        "Other interesting conclusions can be derived from the line plots. There is an obvious trend in terms of number of films released. The industry of cinema has become bigger and bigger with the years and more movies are released every decade.\n",
        "On the other hand, the \"quality\" of movies (at least in terms of scores) hasn't increased since the '20s or '30s. At the same time there has been an increase in variability of ratings over the decades. There are more bad films and more good films. Just compare the width of the distribution of '30s ratings with the width of the distribution for the '90s"
      ],
      "metadata": {
        "id": "oJchYxJNAqpy"
      }
    },
    {
      "cell_type": "markdown",
      "source": [
        "3. **Exploratory analysis of Kubrick films** (one of my favorite directors)\n",
        " * This is an open-ended research question, we just want to gather the complete filmography in a single table and then propose specific questions\n",
        " * We need all the tables: ```crew``` to get the director's id and the id of movies associated he directed. From ```names``` we can get the name of the director which we'll use to filter the results and retrieve only movies from Kubrick.  With the title ids we can get the scores from ```ratings```, the names of the movies from ```akas``` and the release year from ```basics```.\n",
        " * Eventhough ```basics``` contains a lot of movies, I've noticed there are a lot missing. In our case, almost all of Kubrick films are missing. Fortunately, the table ```akas```does contain them all. "
      ],
      "metadata": {
        "id": "k4XPrbkNFsiK"
      }
    },
    {
      "cell_type": "code",
      "source": [
        "%%sql\n",
        "\n",
        "SELECT title, titleType, startYear AS year, averageRating as rating, numVotes\n",
        "FROM crew\n",
        "  INNER JOIN names ON crew.directors = names.nconst\n",
        "  INNER JOIN ratings ON crew.tconst = ratings.tconst\n",
        "  INNER JOIN akas ON ratings.tconst = akas.titleId\n",
        "  LEFT JOIN basics ON akas.titleId = basics.tconst -- left join to avoid losing data\n",
        "WHERE primaryName = 'Stanley Kubrick' AND isOriginalTitle = 1 \n",
        "ORDER BY year ASC;"
      ],
      "metadata": {
        "colab": {
          "base_uri": "https://localhost:8080/",
          "height": 395
        },
        "id": "oFbf7szUHnOk",
        "outputId": "88556c75-8831-4e6a-e0e7-4601ddb2d5f8"
      },
      "execution_count": 9,
      "outputs": [
        {
          "output_type": "stream",
          "name": "stdout",
          "text": [
            " * sqlite:////content/drive/MyDrive/Colab_Notebooks/sql_imdb/imdb.db\n",
            "Done.\n"
          ]
        },
        {
          "output_type": "execute_result",
          "data": {
            "text/plain": [
              "[('Day of the Fight', None, None, '6.2', '4616'),\n",
              " ('Flying Padre', None, None, '5.5', '4289'),\n",
              " ('The Seafarers', None, None, '5.1', '2869'),\n",
              " ('Fear and Desire', None, None, '5.4', '11966'),\n",
              " (\"Killer's Kiss\", None, None, '6.6', '24088'),\n",
              " ('The Killing', None, None, '8.0', '89725'),\n",
              " ('Paths of Glory', None, None, '8.4', '196163'),\n",
              " ('Spartacus', None, None, '7.9', '134729'),\n",
              " ('Lolita', None, None, '7.5', '101367'),\n",
              " ('Dr. Strangelove or: How I Learned to Stop Worrying and Love the Bomb', None, None, '8.4', '486874'),\n",
              " ('A Clockwork Orange', None, None, '8.3', '820818'),\n",
              " ('Barry Lyndon', None, None, '8.1', '166674'),\n",
              " ('The Shining', 'movie', '1980', '8.4', '1003887'),\n",
              " ('Full Metal Jacket', 'movie', '1987', '8.3', '734917'),\n",
              " ('Eyes Wide Shut', 'movie', '1999', '7.5', '337596')]"
            ],
            "text/html": [
              "<table>\n",
              "    <thead>\n",
              "        <tr>\n",
              "            <th>title</th>\n",
              "            <th>titleType</th>\n",
              "            <th>year</th>\n",
              "            <th>rating</th>\n",
              "            <th>numVotes</th>\n",
              "        </tr>\n",
              "    </thead>\n",
              "    <tbody>\n",
              "        <tr>\n",
              "            <td>Day of the Fight</td>\n",
              "            <td>None</td>\n",
              "            <td>None</td>\n",
              "            <td>6.2</td>\n",
              "            <td>4616</td>\n",
              "        </tr>\n",
              "        <tr>\n",
              "            <td>Flying Padre</td>\n",
              "            <td>None</td>\n",
              "            <td>None</td>\n",
              "            <td>5.5</td>\n",
              "            <td>4289</td>\n",
              "        </tr>\n",
              "        <tr>\n",
              "            <td>The Seafarers</td>\n",
              "            <td>None</td>\n",
              "            <td>None</td>\n",
              "            <td>5.1</td>\n",
              "            <td>2869</td>\n",
              "        </tr>\n",
              "        <tr>\n",
              "            <td>Fear and Desire</td>\n",
              "            <td>None</td>\n",
              "            <td>None</td>\n",
              "            <td>5.4</td>\n",
              "            <td>11966</td>\n",
              "        </tr>\n",
              "        <tr>\n",
              "            <td>Killer&#x27;s Kiss</td>\n",
              "            <td>None</td>\n",
              "            <td>None</td>\n",
              "            <td>6.6</td>\n",
              "            <td>24088</td>\n",
              "        </tr>\n",
              "        <tr>\n",
              "            <td>The Killing</td>\n",
              "            <td>None</td>\n",
              "            <td>None</td>\n",
              "            <td>8.0</td>\n",
              "            <td>89725</td>\n",
              "        </tr>\n",
              "        <tr>\n",
              "            <td>Paths of Glory</td>\n",
              "            <td>None</td>\n",
              "            <td>None</td>\n",
              "            <td>8.4</td>\n",
              "            <td>196163</td>\n",
              "        </tr>\n",
              "        <tr>\n",
              "            <td>Spartacus</td>\n",
              "            <td>None</td>\n",
              "            <td>None</td>\n",
              "            <td>7.9</td>\n",
              "            <td>134729</td>\n",
              "        </tr>\n",
              "        <tr>\n",
              "            <td>Lolita</td>\n",
              "            <td>None</td>\n",
              "            <td>None</td>\n",
              "            <td>7.5</td>\n",
              "            <td>101367</td>\n",
              "        </tr>\n",
              "        <tr>\n",
              "            <td>Dr. Strangelove or: How I Learned to Stop Worrying and Love the Bomb</td>\n",
              "            <td>None</td>\n",
              "            <td>None</td>\n",
              "            <td>8.4</td>\n",
              "            <td>486874</td>\n",
              "        </tr>\n",
              "        <tr>\n",
              "            <td>A Clockwork Orange</td>\n",
              "            <td>None</td>\n",
              "            <td>None</td>\n",
              "            <td>8.3</td>\n",
              "            <td>820818</td>\n",
              "        </tr>\n",
              "        <tr>\n",
              "            <td>Barry Lyndon</td>\n",
              "            <td>None</td>\n",
              "            <td>None</td>\n",
              "            <td>8.1</td>\n",
              "            <td>166674</td>\n",
              "        </tr>\n",
              "        <tr>\n",
              "            <td>The Shining</td>\n",
              "            <td>movie</td>\n",
              "            <td>1980</td>\n",
              "            <td>8.4</td>\n",
              "            <td>1003887</td>\n",
              "        </tr>\n",
              "        <tr>\n",
              "            <td>Full Metal Jacket</td>\n",
              "            <td>movie</td>\n",
              "            <td>1987</td>\n",
              "            <td>8.3</td>\n",
              "            <td>734917</td>\n",
              "        </tr>\n",
              "        <tr>\n",
              "            <td>Eyes Wide Shut</td>\n",
              "            <td>movie</td>\n",
              "            <td>1999</td>\n",
              "            <td>7.5</td>\n",
              "            <td>337596</td>\n",
              "        </tr>\n",
              "    </tbody>\n",
              "</table>"
            ]
          },
          "metadata": {},
          "execution_count": 9
        }
      ]
    },
    {
      "cell_type": "markdown",
      "source": [
        "Only three movies have date of release, which means that all other films were in the ```akas``` table (and ```ratings```) but not in ```basics```. It becomes clear now why we had to use a left join.\n",
        "\n",
        "However, interestingly the movies are still in correct order. Knowing that we can appreciate there is a progression or improvement in terms of ratings. We can see if that insight is correct with a plot"
      ],
      "metadata": {
        "id": "U2KNMK0z_cWo"
      }
    },
    {
      "cell_type": "code",
      "source": [
        "res = %sql SELECT title,startYear AS year, CAST(averageRating AS NUMERIC) as rating, CAST(numVotes AS INTEGER) AS votes FROM crew INNER JOIN names ON crew.directors = names.nconst INNER JOIN ratings ON crew.tconst = ratings.tconst INNER JOIN akas ON ratings.tconst = akas.titleId LEFT JOIN basics ON akas.titleId = basics.tconst WHERE primaryName = 'Stanley Kubrick' AND isOriginalTitle = 1 ORDER BY year ASC;\n",
        "kub = res.DataFrame()\n",
        "kub.info()"
      ],
      "metadata": {
        "colab": {
          "base_uri": "https://localhost:8080/"
        },
        "id": "KCle8XxMA7QF",
        "outputId": "4ed09374-4a6f-4632-f042-29faa505375c"
      },
      "execution_count": 10,
      "outputs": [
        {
          "output_type": "stream",
          "name": "stdout",
          "text": [
            " * sqlite:////content/drive/MyDrive/Colab_Notebooks/sql_imdb/imdb.db\n",
            "Done.\n",
            "<class 'pandas.core.frame.DataFrame'>\n",
            "RangeIndex: 15 entries, 0 to 14\n",
            "Data columns (total 4 columns):\n",
            " #   Column  Non-Null Count  Dtype  \n",
            "---  ------  --------------  -----  \n",
            " 0   title   15 non-null     object \n",
            " 1   year    3 non-null      object \n",
            " 2   rating  15 non-null     float64\n",
            " 3   votes   15 non-null     int64  \n",
            "dtypes: float64(1), int64(1), object(2)\n",
            "memory usage: 608.0+ bytes\n"
          ]
        }
      ]
    },
    {
      "cell_type": "code",
      "source": [
        "sns.set(rc={\"figure.figsize\":(15,5)})\n",
        "g = sns.pointplot(data=kub,x='title',y='rating')\n",
        "plt.xticks(rotation=45);\n",
        "names_short = kub['title'].replace('.+Strangelove.+','Dr. Strangelove (...)',regex=True) # to fit all the titles in x-axis\n",
        "g.set_xticklabels(names_short); \n",
        "g.set_ylim([0,10]);\n",
        "g.set_title('Kubrick films and ratings over years')\n",
        "# plt.savefig('/content/drive/MyDrive/Colab_Notebooks/sql_imdb/kubrick_ratings.jpg',dpi=300,bbox_inches='tight')"
      ],
      "metadata": {
        "colab": {
          "base_uri": "https://localhost:8080/",
          "height": 432
        },
        "id": "hDzYZy2hBQzJ",
        "outputId": "9c5867a3-db14-4851-fec9-85fb30d350e3"
      },
      "execution_count": 25,
      "outputs": [
        {
          "output_type": "display_data",
          "data": {
            "text/plain": [
              "<Figure size 1080x360 with 1 Axes>"
            ],
            "image/png": "[encoded data removed]"
          },
          "metadata": {}
        }
      ]
    },
    {
      "cell_type": "markdown",
      "source": [
        "The first 3 works are not really movies, but short documentaries, and the first two movies (Fear and Desire and Killer's Kiss) are still a bit amateur. After that he started giving us masterpiece after masterpiece."
      ],
      "metadata": {
        "id": "ychJqIplHWhL"
      }
    },
    {
      "cell_type": "code",
      "source": [
        "plt.figure(figsize=(15,7))\n",
        "plt.pie(kub['votes'],\n",
        "        labels=names_short,\n",
        "        colors=sns.color_palette('Set2'),\n",
        "        autopct='%0.0f%%');\n",
        "plt.title('% of votes of Kubrick films');\n",
        "# plt.savefig('/content/drive/MyDrive/Colab_Notebooks/sql_imdb/kubrick_votes.jpg',dpi=300,bbox_inches='tight')"
      ],
      "metadata": {
        "colab": {
          "base_uri": "https://localhost:8080/",
          "height": 427
        },
        "id": "pQ59NqfRwKzs",
        "outputId": "a5ce40fa-f233-4f74-e699-c20e90218888"
      },
      "execution_count": 27,
      "outputs": [
        {
          "output_type": "display_data",
          "data": {
            "text/plain": [
              "<Figure size 1080x504 with 1 Axes>"
            ],
            "image/png": "[encoded data removed]"
          },
          "metadata": {}
        }
      ]
    },
    {
      "cell_type": "markdown",
      "source": [
        "In terms of votes, The Shining is definitely the most popular film of the artist, followed by A Clockwork Orange and Full Metal Jacket"
      ],
      "metadata": {
        "id": "mS2IOl7-Z7L8"
      }
    },
    {
      "cell_type": "markdown",
      "source": [
        "Is there a match between popularity and rating? We all know a movie doesn't have to be good to be known and liked by many..."
      ],
      "metadata": {
        "id": "1XLo3C89Crw2"
      }
    },
    {
      "cell_type": "code",
      "source": [
        "top = pd.DataFrame({'byrating':kub.sort_values('rating',ascending=False)['title'].values,\n",
        "                    'byvotes':kub.sort_values('votes',ascending=False)['title'].values})\n",
        "top"
      ],
      "metadata": {
        "colab": {
          "base_uri": "https://localhost:8080/",
          "height": 520
        },
        "id": "AO3fWnh7p3XT",
        "outputId": "40c97559-f837-408e-9bb1-7e798ff1fae6"
      },
      "execution_count": 12,
      "outputs": [
        {
          "output_type": "execute_result",
          "data": {
            "text/plain": [
              "                                             byrating  \\\n",
              "0                                      Paths of Glory   \n",
              "1   Dr. Strangelove or: How I Learned to Stop Worr...   \n",
              "2                                         The Shining   \n",
              "3                                  A Clockwork Orange   \n",
              "4                                   Full Metal Jacket   \n",
              "5                                        Barry Lyndon   \n",
              "6                                         The Killing   \n",
              "7                                           Spartacus   \n",
              "8                                              Lolita   \n",
              "9                                      Eyes Wide Shut   \n",
              "10                                      Killer's Kiss   \n",
              "11                                   Day of the Fight   \n",
              "12                                       Flying Padre   \n",
              "13                                    Fear and Desire   \n",
              "14                                      The Seafarers   \n",
              "\n",
              "                                              byvotes  \n",
              "0                                         The Shining  \n",
              "1                                  A Clockwork Orange  \n",
              "2                                   Full Metal Jacket  \n",
              "3   Dr. Strangelove or: How I Learned to Stop Worr...  \n",
              "4                                      Eyes Wide Shut  \n",
              "5                                      Paths of Glory  \n",
              "6                                        Barry Lyndon  \n",
              "7                                           Spartacus  \n",
              "8                                              Lolita  \n",
              "9                                         The Killing  \n",
              "10                                      Killer's Kiss  \n",
              "11                                    Fear and Desire  \n",
              "12                                   Day of the Fight  \n",
              "13                                       Flying Padre  \n",
              "14                                      The Seafarers  "
            ],
            "text/html": [
              "\n",
              "  <div id=\"df-f87ceb39-4266-4e4e-9e61-690b28b7691c\">\n",
              "    <div class=\"colab-df-container\">\n",
              "      <div>\n",
              "<style scoped>\n",
              "    .dataframe tbody tr th:only-of-type {\n",
              "        vertical-align: middle;\n",
              "    }\n",
              "\n",
              "    .dataframe tbody tr th {\n",
              "        vertical-align: top;\n",
              "    }\n",
              "\n",
              "    .dataframe thead th {\n",
              "        text-align: right;\n",
              "    }\n",
              "</style>\n",
              "<table border=\"1\" class=\"dataframe\">\n",
              "  <thead>\n",
              "    <tr style=\"text-align: right;\">\n",
              "      <th></th>\n",
              "      <th>byrating</th>\n",
              "      <th>byvotes</th>\n",
              "    </tr>\n",
              "  </thead>\n",
              "  <tbody>\n",
              "    <tr>\n",
              "      <th>0</th>\n",
              "      <td>Paths of Glory</td>\n",
              "      <td>The Shining</td>\n",
              "    </tr>\n",
              "    <tr>\n",
              "      <th>1</th>\n",
              "      <td>Dr. Strangelove or: How I Learned to Stop Worr...</td>\n",
              "      <td>A Clockwork Orange</td>\n",
              "    </tr>\n",
              "    <tr>\n",
              "      <th>2</th>\n",
              "      <td>The Shining</td>\n",
              "      <td>Full Metal Jacket</td>\n",
              "    </tr>\n",
              "    <tr>\n",
              "      <th>3</th>\n",
              "      <td>A Clockwork Orange</td>\n",
              "      <td>Dr. Strangelove or: How I Learned to Stop Worr...</td>\n",
              "    </tr>\n",
              "    <tr>\n",
              "      <th>4</th>\n",
              "      <td>Full Metal Jacket</td>\n",
              "      <td>Eyes Wide Shut</td>\n",
              "    </tr>\n",
              "    <tr>\n",
              "      <th>5</th>\n",
              "      <td>Barry Lyndon</td>\n",
              "      <td>Paths of Glory</td>\n",
              "    </tr>\n",
              "    <tr>\n",
              "      <th>6</th>\n",
              "      <td>The Killing</td>\n",
              "      <td>Barry Lyndon</td>\n",
              "    </tr>\n",
              "    <tr>\n",
              "      <th>7</th>\n",
              "      <td>Spartacus</td>\n",
              "      <td>Spartacus</td>\n",
              "    </tr>\n",
              "    <tr>\n",
              "      <th>8</th>\n",
              "      <td>Lolita</td>\n",
              "      <td>Lolita</td>\n",
              "    </tr>\n",
              "    <tr>\n",
              "      <th>9</th>\n",
              "      <td>Eyes Wide Shut</td>\n",
              "      <td>The Killing</td>\n",
              "    </tr>\n",
              "    <tr>\n",
              "      <th>10</th>\n",
              "      <td>Killer's Kiss</td>\n",
              "      <td>Killer's Kiss</td>\n",
              "    </tr>\n",
              "    <tr>\n",
              "      <th>11</th>\n",
              "      <td>Day of the Fight</td>\n",
              "      <td>Fear and Desire</td>\n",
              "    </tr>\n",
              "    <tr>\n",
              "      <th>12</th>\n",
              "      <td>Flying Padre</td>\n",
              "      <td>Day of the Fight</td>\n",
              "    </tr>\n",
              "    <tr>\n",
              "      <th>13</th>\n",
              "      <td>Fear and Desire</td>\n",
              "      <td>Flying Padre</td>\n",
              "    </tr>\n",
              "    <tr>\n",
              "      <th>14</th>\n",
              "      <td>The Seafarers</td>\n",
              "      <td>The Seafarers</td>\n",
              "    </tr>\n",
              "  </tbody>\n",
              "</table>\n",
              "</div>\n",
              "      <button class=\"colab-df-convert\" onclick=\"convertToInteractive('df-f87ceb39-4266-4e4e-9e61-690b28b7691c')\"\n",
              "              title=\"Convert this dataframe to an interactive table.\"\n",
              "              style=\"display:none;\">\n",
              "        \n",
              "  <svg xmlns=\"http://www.w3.org/2000/svg\" height=\"24px\"viewBox=\"0 0 24 24\"\n",
              "       width=\"24px\">\n",
              "    <path d=\"M0 0h24v24H0V0z\" fill=\"none\"/>\n",
              "    <path d=\"M18.56 5.44l.94 2.06.94-2.06 2.06-.94-2.06-.94-.94-2.06-.94 2.06-2.06.94zm-11 1L8.5 8.5l.94-2.06 2.06-.94-2.06-.94L8.5 2.5l-.94 2.06-2.06.94zm10 10l.94 2.06.94-2.06 2.06-.94-2.06-.94-.94-2.06-.94 2.06-2.06.94z\"/><path d=\"M17.41 7.96l-1.37-1.37c-.4-.4-.92-.59-1.43-.59-.52 0-1.04.2-1.43.59L10.3 9.45l-7.72 7.72c-.78.78-.78 2.05 0 2.83L4 21.41c.39.39.9.59 1.41.59.51 0 1.02-.2 1.41-.59l7.78-7.78 2.81-2.81c.8-.78.8-2.07 0-2.86zM5.41 20L4 18.59l7.72-7.72 1.47 1.35L5.41 20z\"/>\n",
              "  </svg>\n",
              "      </button>\n",
              "      \n",
              "  <style>\n",
              "    .colab-df-container {\n",
              "      display:flex;\n",
              "      flex-wrap:wrap;\n",
              "      gap: 12px;\n",
              "    }\n",
              "\n",
              "    .colab-df-convert {\n",
              "      background-color: #E8F0FE;\n",
              "      border: none;\n",
              "      border-radius: 50%;\n",
              "      cursor: pointer;\n",
              "      display: none;\n",
              "      fill: #1967D2;\n",
              "      height: 32px;\n",
              "      padding: 0 0 0 0;\n",
              "      width: 32px;\n",
              "    }\n",
              "\n",
              "    .colab-df-convert:hover {\n",
              "      background-color: #E2EBFA;\n",
              "      box-shadow: 0px 1px 2px rgba(60, 64, 67, 0.3), 0px 1px 3px 1px rgba(60, 64, 67, 0.15);\n",
              "      fill: #174EA6;\n",
              "    }\n",
              "\n",
              "    [theme=dark] .colab-df-convert {\n",
              "      background-color: #3B4455;\n",
              "      fill: #D2E3FC;\n",
              "    }\n",
              "\n",
              "    [theme=dark] .colab-df-convert:hover {\n",
              "      background-color: #434B5C;\n",
              "      box-shadow: 0px 1px 3px 1px rgba(0, 0, 0, 0.15);\n",
              "      filter: drop-shadow(0px 1px 2px rgba(0, 0, 0, 0.3));\n",
              "      fill: #FFFFFF;\n",
              "    }\n",
              "  </style>\n",
              "\n",
              "      <script>\n",
              "        const buttonEl =\n",
              "          document.querySelector('#df-f87ceb39-4266-4e4e-9e61-690b28b7691c button.colab-df-convert');\n",
              "        buttonEl.style.display =\n",
              "          google.colab.kernel.accessAllowed ? 'block' : 'none';\n",
              "\n",
              "        async function convertToInteractive(key) {\n",
              "          const element = document.querySelector('#df-f87ceb39-4266-4e4e-9e61-690b28b7691c');\n",
              "          const dataTable =\n",
              "            await google.colab.kernel.invokeFunction('convertToInteractive',\n",
              "                                                     [key], {});\n",
              "          if (!dataTable) return;\n",
              "\n",
              "          const docLinkHtml = 'Like what you see? Visit the ' +\n",
              "            '<a target=\"_blank\" href=https://colab.research.google.com/notebooks/data_table.ipynb>data table notebook</a>'\n",
              "            + ' to learn more about interactive tables.';\n",
              "          element.innerHTML = '';\n",
              "          dataTable['output_type'] = 'display_data';\n",
              "          await google.colab.output.renderOutput(dataTable, element);\n",
              "          const docLink = document.createElement('div');\n",
              "          docLink.innerHTML = docLinkHtml;\n",
              "          element.appendChild(docLink);\n",
              "        }\n",
              "      </script>\n",
              "    </div>\n",
              "  </div>\n",
              "  "
            ]
          },
          "metadata": {},
          "execution_count": 12
        }
      ]
    },
    {
      "cell_type": "code",
      "source": [
        "from statistics import mean\n",
        "# how far are movies in the two lists?\n",
        "jumps = []\n",
        "for rat in top['byrating']:\n",
        "  for i,row in top.iterrows():\n",
        "    if rat == row['byvotes']:\n",
        "      jumps.append(i)\n",
        "position_rating = top.index\n",
        "dists = [abs(pos_rat - jump) for pos_rat,jump in zip(position_rating,jumps)]\n",
        "mean(dists)"
      ],
      "metadata": {
        "colab": {
          "base_uri": "https://localhost:8080/"
        },
        "id": "t01ix8QmUKYa",
        "outputId": "6f34f04d-e47e-4290-b544-6d621b5217eb"
      },
      "execution_count": 13,
      "outputs": [
        {
          "output_type": "execute_result",
          "data": {
            "text/plain": [
              "1.7333333333333334"
            ]
          },
          "metadata": {},
          "execution_count": 13
        }
      ]
    },
    {
      "cell_type": "markdown",
      "source": [
        "There is a good correspondence between the two lists. On average there is a \"mismatch of 1.7 places\". We can pick a movie from the list of top rated films and if it's in third place we can guess it will be in the top five of most voted films, not further than the fifth position"
      ],
      "metadata": {
        "id": "vP2HgO2aS2mc"
      }
    },
    {
      "cell_type": "markdown",
      "source": [
        "3. **Who are the most popular film directors of the 20th and 21st century?**"
      ],
      "metadata": {
        "id": "1c807qGmV_Wk"
      }
    },
    {
      "cell_type": "code",
      "source": [
        "%%sql\n",
        "\n",
        "SELECT \n",
        "  primaryName AS director, \n",
        "  ROUND(AVG(numVotes),2) as avg_votes, \n",
        "  ROUND(averageRating,2) as avg_rating\n",
        "FROM crew\n",
        "  INNER JOIN names ON crew.directors = names.nconst\n",
        "  INNER JOIN ratings ON crew.tconst = ratings.tconst\n",
        "  INNER JOIN akas ON ratings.tconst = akas.titleId\n",
        "  LEFT JOIN basics ON akas.titleId = basics.tconst \n",
        "WHERE startYear >= 1900 AND isOriginalTitle = 1 AND titleType = 'movie'\n",
        "GROUP BY director\n",
        "ORDER BY avg_votes DESC\n",
        "LIMIT 10;\n"
      ],
      "metadata": {
        "id": "U3k276bh5rRd",
        "colab": {
          "base_uri": "https://localhost:8080/",
          "height": 289
        },
        "outputId": "b8b679dd-871a-49d8-d8c0-244234585ef9"
      },
      "execution_count": 14,
      "outputs": [
        {
          "output_type": "stream",
          "name": "stdout",
          "text": [
            " * sqlite:////content/drive/MyDrive/Colab_Notebooks/sql_imdb/imdb.db\n",
            "Done.\n"
          ]
        },
        {
          "output_type": "execute_result",
          "data": {
            "text/plain": [
              "[('Christopher Nolan', 1324375.9, 7.3),\n",
              " ('Frank Darabont', 1324025.67, 6.9),\n",
              " ('John Lasseter', 981617.0, 8.3),\n",
              " ('Quentin Tarantino', 973626.22, 7.8),\n",
              " ('David Fincher', 840897.25, 7.8),\n",
              " ('Lee Unkrich', 827479.0, 8.3),\n",
              " ('George Lucas', 761275.67, 7.6),\n",
              " ('Stanley Kubrick', 692133.33, 7.5),\n",
              " ('Andrew Stanton', 687014.0, 8.4),\n",
              " ('James Cameron', 683254.5, 7.8)]"
            ],
            "text/html": [
              "<table>\n",
              "    <thead>\n",
              "        <tr>\n",
              "            <th>director</th>\n",
              "            <th>avg_votes</th>\n",
              "            <th>avg_rating</th>\n",
              "        </tr>\n",
              "    </thead>\n",
              "    <tbody>\n",
              "        <tr>\n",
              "            <td>Christopher Nolan</td>\n",
              "            <td>1324375.9</td>\n",
              "            <td>7.3</td>\n",
              "        </tr>\n",
              "        <tr>\n",
              "            <td>Frank Darabont</td>\n",
              "            <td>1324025.67</td>\n",
              "            <td>6.9</td>\n",
              "        </tr>\n",
              "        <tr>\n",
              "            <td>John Lasseter</td>\n",
              "            <td>981617.0</td>\n",
              "            <td>8.3</td>\n",
              "        </tr>\n",
              "        <tr>\n",
              "            <td>Quentin Tarantino</td>\n",
              "            <td>973626.22</td>\n",
              "            <td>7.8</td>\n",
              "        </tr>\n",
              "        <tr>\n",
              "            <td>David Fincher</td>\n",
              "            <td>840897.25</td>\n",
              "            <td>7.8</td>\n",
              "        </tr>\n",
              "        <tr>\n",
              "            <td>Lee Unkrich</td>\n",
              "            <td>827479.0</td>\n",
              "            <td>8.3</td>\n",
              "        </tr>\n",
              "        <tr>\n",
              "            <td>George Lucas</td>\n",
              "            <td>761275.67</td>\n",
              "            <td>7.6</td>\n",
              "        </tr>\n",
              "        <tr>\n",
              "            <td>Stanley Kubrick</td>\n",
              "            <td>692133.33</td>\n",
              "            <td>7.5</td>\n",
              "        </tr>\n",
              "        <tr>\n",
              "            <td>Andrew Stanton</td>\n",
              "            <td>687014.0</td>\n",
              "            <td>8.4</td>\n",
              "        </tr>\n",
              "        <tr>\n",
              "            <td>James Cameron</td>\n",
              "            <td>683254.5</td>\n",
              "            <td>7.8</td>\n",
              "        </tr>\n",
              "    </tbody>\n",
              "</table>"
            ]
          },
          "metadata": {},
          "execution_count": 14
        }
      ]
    },
    {
      "cell_type": "markdown",
      "source": [
        "This is very interesting. I expected to find blockbuster directors like Nolan, Tarantino or Lucas but I didn't expect Darabont to be in the list. To be honest, I didn't know who he was. He has directed excellent films like The Shawshank Redemption and The Green Mile. And the first one is indeed the most voted film in imdb"
      ],
      "metadata": {
        "id": "6AoLpRryksSH"
      }
    },
    {
      "cell_type": "code",
      "source": [
        "%%sql\n",
        "\n",
        "SELECT primaryTitle,CAST(numVotes AS INTEGER) AS votes\n",
        "FROM basics\n",
        "  INNER JOIN ratings ON basics.tconst == ratings.tconst\n",
        "WHERE titleType == 'movie' \n",
        "ORDER BY votes DESC\n",
        "LIMIT 10;"
      ],
      "metadata": {
        "colab": {
          "base_uri": "https://localhost:8080/",
          "height": 289
        },
        "id": "CIxSl54cl3JD",
        "outputId": "263d23ce-136f-4a64-c5cc-e071149f6db3"
      },
      "execution_count": 15,
      "outputs": [
        {
          "output_type": "stream",
          "name": "stdout",
          "text": [
            " * sqlite:////content/drive/MyDrive/Colab_Notebooks/sql_imdb/imdb.db\n",
            "Done.\n"
          ]
        },
        {
          "output_type": "execute_result",
          "data": {
            "text/plain": [
              "[('The Shawshank Redemption', 2636714),\n",
              " ('The Dark Knight', 2607988),\n",
              " ('Inception', 2312086),\n",
              " ('Fight Club', 2080309),\n",
              " ('Forrest Gump', 2041044),\n",
              " ('Pulp Fiction', 2017916),\n",
              " ('The Matrix', 1886948),\n",
              " ('The Lord of the Rings: The Fellowship of the Ring', 1834020),\n",
              " ('The Lord of the Rings: The Return of the King', 1811141),\n",
              " ('Interstellar', 1778987)]"
            ],
            "text/html": [
              "<table>\n",
              "    <thead>\n",
              "        <tr>\n",
              "            <th>primaryTitle</th>\n",
              "            <th>votes</th>\n",
              "        </tr>\n",
              "    </thead>\n",
              "    <tbody>\n",
              "        <tr>\n",
              "            <td>The Shawshank Redemption</td>\n",
              "            <td>2636714</td>\n",
              "        </tr>\n",
              "        <tr>\n",
              "            <td>The Dark Knight</td>\n",
              "            <td>2607988</td>\n",
              "        </tr>\n",
              "        <tr>\n",
              "            <td>Inception</td>\n",
              "            <td>2312086</td>\n",
              "        </tr>\n",
              "        <tr>\n",
              "            <td>Fight Club</td>\n",
              "            <td>2080309</td>\n",
              "        </tr>\n",
              "        <tr>\n",
              "            <td>Forrest Gump</td>\n",
              "            <td>2041044</td>\n",
              "        </tr>\n",
              "        <tr>\n",
              "            <td>Pulp Fiction</td>\n",
              "            <td>2017916</td>\n",
              "        </tr>\n",
              "        <tr>\n",
              "            <td>The Matrix</td>\n",
              "            <td>1886948</td>\n",
              "        </tr>\n",
              "        <tr>\n",
              "            <td>The Lord of the Rings: The Fellowship of the Ring</td>\n",
              "            <td>1834020</td>\n",
              "        </tr>\n",
              "        <tr>\n",
              "            <td>The Lord of the Rings: The Return of the King</td>\n",
              "            <td>1811141</td>\n",
              "        </tr>\n",
              "        <tr>\n",
              "            <td>Interstellar</td>\n",
              "            <td>1778987</td>\n",
              "        </tr>\n",
              "    </tbody>\n",
              "</table>"
            ]
          },
          "metadata": {},
          "execution_count": 15
        }
      ]
    }
  ],
  "metadata": {
    "colab": {
      "provenance": [],
      "collapsed_sections": []
    },
    "kernelspec": {
      "display_name": "Python 3",
      "name": "python3"
    },
    "language_info": {
      "name": "python"
    }
  },
  "nbformat": 4,
  "nbformat_minor": 0
}